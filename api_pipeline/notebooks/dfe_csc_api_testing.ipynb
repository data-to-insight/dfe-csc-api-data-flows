{
 "cells": [
  {
   "cell_type": "code",
   "execution_count": null,
   "id": "e3c35eb6-01d5-401a-9ac0-3b3e4d4a2f1e",
   "metadata": {},
   "outputs": [],
   "source": []
  },
  {
   "cell_type": "code",
   "execution_count": 1,
   "id": "de534a21-ee23-4cce-bc70-b26a5e705834",
   "metadata": {},
   "outputs": [],
   "source": [
    "# Enable package-style imports from api_pipeline in Jupyter\n",
    "import sys, os\n",
    "\n",
    "try:\n",
    "    # Works in standard Python script\n",
    "    # current notebook directory (repo root) to path\n",
    "    notebook_dir = os.path.dirname(os.path.abspath(__file__))\n",
    "    sys.path.insert(0, notebook_dir)\n",
    "except NameError:\n",
    "    # Fallback for Jupyter which has no __file__\n",
    "    # Adjust path to point to your project root if needed\n",
    "    sys.path.insert(0, os.path.abspath(\".\"))\n"
   ]
  },
  {
   "cell_type": "code",
   "execution_count": 2,
   "id": "4fbd365c-c10d-4ecb-8688-e36a310a7df5",
   "metadata": {},
   "outputs": [
    {
     "name": "stdout",
     "output_type": "stream",
     "text": [
      "Starting main()...\n",
      "▶ Running in development mode\n",
      "▶ Partial delta payload mode enabled\n",
      "Connecting to DB using: DRIVER={ODBC Driver 17 for SQL Server};SERVER=ESLLREPORTS04V;DATABASE=HDM_Local;Trusted_Connection=yes;\n",
      "Starting update_partial_payloads()...\n",
      "Updated 0 partial_json_payload records\n",
      "[DIAG] Checked: 0\n",
      "[DIAG] Skipped (state): 0\n",
      "[DIAG] Skipped (identical JSON): 0\n",
      "[DIAG] Delta payloads: 0\n",
      "[DIAG] Deleted payloads: 0\n",
      "[DIAG] Errors: 0\n",
      "Finished update_partial_payloads(): 0.24s | Mem delta: 0.09 MiB | Peak mem: 0.17 MiB\n",
      "Partial payloads updated.\n",
      "OAuth token retrieved.\n",
      "TOKEN (first 5 chars): eyJ0e...\n",
      "Headers preview:\n",
      "    Authorization: Bearer eyJ0e...\n",
      "    Content-Type: application/json\n",
      "    SupplierKey: 6736a...\n",
      "    User-Agent: Microsoft PowerShell/6.0.0\n",
      "API endpoint: https://pp-api.education.gov.uk/csc-receiver-test/1/children_social_care_data/000/children\n",
      "\n",
      "Fetching pending records from DB...\n",
      "Starting get_pending_records()...\n",
      "Finished get_pending_records(): 0.23s | Mem delta: 0.00 MiB | Peak mem: 0.15 MiB\n",
      "Fetched 0 pending records.\n",
      "No pending records to send.\n",
      "Finished main(): 1.11s | Mem delta: 5.71 MiB | Peak mem: 0.00 MiB\n",
      "\n",
      "[DIAG] recursive_diff() calls: 0\n",
      "[DIAG] Total time in recursive_diff(): 0.00s\n",
      "\n",
      "[DIAG] prune_unchanged_list() calls: 0\n",
      "[DIAG] Total time in prune_unchanged_list(): 0.00s\n"
     ]
    }
   ],
   "source": [
    "import config\n",
    "import utils, api, main, payload\n",
    "\n",
    "import importlib\n",
    "\n",
    "importlib.reload(config)\n",
    "from config import SQL_CONN_STR, USE_PARTIAL_PAYLOAD\n",
    "\n",
    "importlib.reload(utils)\n",
    "importlib.reload(api)\n",
    "importlib.reload(main)\n",
    "\n",
    "main.main()\n",
    "\n",
    "importlib.reload(payload)\n",
    "payload.print_diff_stats()\n"
   ]
  },
  {
   "cell_type": "code",
   "execution_count": null,
   "id": "752b39d6-2731-4cfc-92d3-896d64288e8b",
   "metadata": {},
   "outputs": [],
   "source": []
  }
 ],
 "metadata": {
  "kernelspec": {
   "display_name": "Python 3 (ipykernel)",
   "language": "python",
   "name": "python3"
  },
  "language_info": {
   "codemirror_mode": {
    "name": "ipython",
    "version": 3
   },
   "file_extension": ".py",
   "mimetype": "text/x-python",
   "name": "python",
   "nbconvert_exporter": "python",
   "pygments_lexer": "ipython3",
   "version": "3.12.4"
  }
 },
 "nbformat": 4,
 "nbformat_minor": 5
}
