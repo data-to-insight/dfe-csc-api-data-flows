{
 "cells": [
  {
   "cell_type": "code",
   "execution_count": null,
   "id": "1a5121dc-a0dc-4c5f-95d6-ab643e844306",
   "metadata": {},
   "outputs": [],
   "source": []
  },
  {
   "cell_type": "code",
   "execution_count": 3,
   "id": "e545c072-dccc-4653-889a-79c0c38ebe11",
   "metadata": {},
   "outputs": [
    {
     "name": "stdout",
     "output_type": "stream",
     "text": [
      "▶ Running in development mode\n",
      "▶ Partial delta payload mode enabled\n",
      "DEBUG: True\n",
      "USE_PARTIAL_PAYLOAD: True\n",
      "\n",
      "[Testing SQL connection]\n",
      "[OK] DB connected.\n",
      "DB connection succeeded.\n",
      "\n",
      "[Running benchmarked dummy function]\n",
      "Starting Dummy computation...\n",
      "Finished Dummy computation: 0.46s | Mem delta: 0.01 MiB | Peak mem: 0.15 MiB\n"
     ]
    },
    {
     "data": {
      "text/plain": [
       "333328333350000"
      ]
     },
     "execution_count": 3,
     "metadata": {},
     "output_type": "execute_result"
    }
   ],
   "source": [
    "## utils.py\n",
    "\n",
    "# --- Setup env for local import ---\n",
    "import sys, os\n",
    "from pathlib import Path\n",
    "\n",
    "# Adjust path for Jupyter if needed\n",
    "if Path(\"api_pipeline\").is_dir():\n",
    "    sys.path.insert(0, str(Path(\".\").resolve()))\n",
    "\n",
    "# --- Imports ---\n",
    "import utils\n",
    "from config import SQL_CONN_STR, DEBUG, USE_PARTIAL_PAYLOAD\n",
    "\n",
    "# --- Announce current config ---\n",
    "utils.announce_mode()\n",
    "print(\"DEBUG:\", DEBUG)\n",
    "print(\"USE_PARTIAL_PAYLOAD:\", USE_PARTIAL_PAYLOAD)\n",
    "\n",
    "# --- Test DB connection ---\n",
    "print(\"\\n[Testing SQL connection]\")\n",
    "if not utils.test_db_connection(SQL_CONN_STR):\n",
    "    print(\"DB connection failed - check .env or connection string.\")\n",
    "else:\n",
    "    print(\"DB connection succeeded.\")\n",
    "\n",
    "# --- Benchmarking quick check/example ---\n",
    "@utils.benchmark_section(\"Dummy computation\")\n",
    "def dummy():\n",
    "    total = sum(i**2 for i in range(100_000))\n",
    "    return total\n",
    "\n",
    "print(\"\\n[Running benchmarked dummy function]\")\n",
    "dummy()\n"
   ]
  },
  {
   "cell_type": "code",
   "execution_count": null,
   "id": "bb6696fd-5f3e-4dee-bb6e-90e9823c64ce",
   "metadata": {},
   "outputs": [],
   "source": [
    "## tests.py\n",
    "\n",
    "# --- Setup environment path for import ---\n",
    "import sys, os\n",
    "from pathlib import Path\n",
    "\n",
    "# Add repo root to path if needed\n",
    "if Path(\"api_pipeline\").is_dir():\n",
    "    sys.path.insert(0, str(Path(\".\").resolve()))\n",
    "\n",
    "# --- Imports ---\n",
    "from test import test_db_connection, test_endpoint, test_schema\n",
    "from config import SQL_CONN_STR\n",
    "\n",
    "# --- Run tests interactively ---\n",
    "print(\"[1] Testing DB connection...\")\n",
    "test_db_connection()\n",
    "\n",
    "print(\"\\n[2] Validating schema...\")\n",
    "test_schema()\n",
    "\n",
    "print(\"\\n[3] Testing API token + POST request...\")\n",
    "test_endpoint()\n"
   ]
  },
  {
   "cell_type": "code",
   "execution_count": null,
   "id": "46adf9f5-beff-4879-926c-2943034b08cf",
   "metadata": {},
   "outputs": [],
   "source": [
    "# Setup: install in editable mode if needed (optional)\n",
    "# %pip install -e \".[notebooks]\"\n",
    "\n",
    "# Auto-reload modules on save\n",
    "%load_ext autoreload\n",
    "%autoreload 2"
   ]
  },
  {
   "cell_type": "code",
   "execution_count": 1,
   "id": "752b39d6-2731-4cfc-92d3-896d64288e8b",
   "metadata": {},
   "outputs": [
    {
     "name": "stdout",
     "output_type": "stream",
     "text": [
      "Starting main()...\n",
      "▶ Running in development mode\n",
      "▶ Partial delta payload mode enabled\n",
      "Connecting to DB using: DRIVER={ODBC Driver 17 for SQL Server};SERVER=ESLLREPORTS04V;DATABASE=HDM_Local;Trusted_Connection=yes;\n",
      "Starting update_partial_payloads()...\n",
      "Updated 0 partial_json_payload records\n",
      "[DIAG] Checked: 9300\n",
      "[DIAG] Skipped (state): 0\n",
      "[DIAG] Skipped (identical JSON): 9300\n",
      "[DIAG] Delta payloads: 0\n",
      "[DIAG] Deleted payloads: 0\n",
      "[DIAG] Errors: 0\n",
      "Finished update_partial_payloads(): 2.52s | Mem delta: 2.24 MiB | Peak mem: 7.73 MiB\n",
      "Partial payloads updated.\n",
      "OAuth token retrieved.\n",
      "TOKEN (first 5 chars): eyJ0e...\n",
      "Headers preview:\n",
      "    Authorization: Bearer eyJ0e...\n",
      "    Content-Type: application/json\n",
      "    SupplierKey: 6736a...\n",
      "    User-Agent: Microsoft PowerShell/6.0.0\n",
      "API endpoint: https://pp-api.education.gov.uk/children-in-social-care-data-receiver-test/1/children_social_care_data/845/children\n",
      "\n",
      "Fetching pending records from DB...\n",
      "Starting get_pending_records()...\n",
      "Finished get_pending_records(): 2.66s | Mem delta: 47.45 MiB | Peak mem: 18.66 MiB\n",
      "Fetched 9300 pending records.\n",
      "Sending 9300 records...\n",
      "Beginning batch API submission...\n",
      "Starting process_batches()...\n",
      "Processing batch 1 to 100 of 9300\n"
     ]
    },
    {
     "name": "stderr",
     "output_type": "stream",
     "text": [
      "\n",
      "KeyboardInterrupt\n",
      "\n"
     ]
    }
   ],
   "source": [
    "\n",
    "# assumes notebook is INSIDE api_pipeline/\n",
    "# and all .py modules within same root folder\n",
    "from main import main\n",
    "import payload\n",
    "\n",
    "# Run main pipeline\n",
    "main()\n",
    "\n",
    "# Optionally print payload stats\n",
    "payload.print_diff_stats()\n"
   ]
  },
  {
   "cell_type": "code",
   "execution_count": null,
   "id": "f26fb6bb-31e4-449a-91c4-375f9ea67a3c",
   "metadata": {},
   "outputs": [],
   "source": []
  }
 ],
 "metadata": {
  "kernelspec": {
   "display_name": "Python 3 (ipykernel)",
   "language": "python",
   "name": "python3"
  },
  "language_info": {
   "codemirror_mode": {
    "name": "ipython",
    "version": 3
   },
   "file_extension": ".py",
   "mimetype": "text/x-python",
   "name": "python",
   "nbconvert_exporter": "python",
   "pygments_lexer": "ipython3",
   "version": "3.12.4"
  }
 },
 "nbformat": 4,
 "nbformat_minor": 5
}
